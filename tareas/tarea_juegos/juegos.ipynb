{
 "cells": [
  {
   "cell_type": "code",
   "execution_count": 1,
   "metadata": {},
   "outputs": [],
   "source": [
    "from typing import Dict, List, Tuple, Any, Optional\n",
    "from pydantic import BaseModel, field_validator, ConfigDict\n",
    "import numpy as np\n",
    "from itertools import product\n",
    "\n",
    "# ---------------------------\n",
    "# Estructuras básicas de datos\n",
    "# ---------------------------\n",
    "class Pagos(BaseModel):\n",
    "    valores: Dict[str, float]  # Jugador -> Pago\n",
    "    \n",
    "    model_config = ConfigDict(frozen=True)\n",
    "\n",
    "class Estrategia(BaseModel):\n",
    "    jugador: str\n",
    "    estrategia: str\n",
    "    \n",
    "    model_config = ConfigDict(frozen=True)\n",
    "\n",
    "class Estrategias(BaseModel):\n",
    "    estrategias: Dict[str, str]  # Jugador -> Estrategia\n",
    "    \n",
    "    model_config = ConfigDict(frozen=True)\n",
    "\n",
    "# ---------------------------\n",
    "# Estructura principal del juego\n",
    "# ---------------------------\n",
    "class EstructuraDeJuego(BaseModel):\n",
    "    jugadores: List[str]\n",
    "    estrategias: Dict[str, List[str]]  # Jugador -> Lista de estrategias\n",
    "    matriz_pagos: Dict[Tuple[str, ...], Pagos]  # Combinación de estrategias -> Pagos\n",
    "    \n",
    "    @field_validator('matriz_pagos')\n",
    "    def validar_matriz_pagos(cls, v, values):\n",
    "        estrategias = values.data.get('estrategias', {})\n",
    "        jugadores = values.data.get('jugadores', [])\n",
    "        \n",
    "        # Verificar que todas las combinaciones sean válidas\n",
    "        for combinacion in v.keys():\n",
    "            if len(combinacion) != len(jugadores):\n",
    "                raise ValueError(\"La combinación de estrategias no coincide con el número de jugadores\")\n",
    "            \n",
    "            for jugador, estrategia in zip(jugadores, combinacion):\n",
    "                if estrategia not in estrategias[jugador]:\n",
    "                    raise ValueError(f\"Estrategia inválida {estrategia} para jugador {jugador}\")\n",
    "        \n",
    "        return v\n",
    "    \n",
    "    @field_validator('estrategias')\n",
    "    def validar_estrategias_jugadores(cls, v, values):\n",
    "        jugadores = values.data.get('jugadores', [])\n",
    "        for jugador in jugadores:\n",
    "            if jugador not in v:\n",
    "                raise ValueError(f\"Faltan estrategias para el jugador {jugador}\")\n",
    "        return v\n",
    "\n",
    "# ---------------------------\n",
    "# Funciones de utilidad\n",
    "# ---------------------------\n",
    "def pagos_estrategia(juego: EstructuraDeJuego, estrategias: Estrategias) -> Pagos:\n",
    "    combinacion = tuple(estrategias.estrategias[j] for j in juego.jugadores)\n",
    "    return juego.matriz_pagos[combinacion]\n",
    "\n",
    "# ---------------------------\n",
    "# Algoritmo de Equilibrio de Nash (versión simplificada)\n",
    "# ---------------------------\n",
    "def equilibrio_nash(juego: EstructuraDeJuego) -> List[Tuple[Estrategias, Pagos]]:\n",
    "    equilibrios = []\n",
    "    \n",
    "    # Generar todas las posibles combinaciones de estrategias puras\n",
    "    estrategias_combinadas = product(*[juego.estrategias[j] for j in juego.jugadores])\n",
    "    \n",
    "    for combinacion in estrategias_combinadas:\n",
    "        es_equilibrio = True\n",
    "        pagos_actual = juego.matriz_pagos[combinacion].valores\n",
    "        \n",
    "        for jugador in juego.jugadores:\n",
    "            # Obtener índice del jugador\n",
    "            idx = juego.jugadores.index(jugador)\n",
    "            \n",
    "            # Evaluar todas las posibles desviaciones del jugador\n",
    "            for estrategia_alternativa in juego.estrategias[jugador]:\n",
    "                if estrategia_alternativa == combinacion[idx]:\n",
    "                    continue\n",
    "                \n",
    "                # Crear nueva combinación con estrategia alternativa\n",
    "                nueva_combinacion = list(combinacion)\n",
    "                nueva_combinacion[idx] = estrategia_alternativa\n",
    "                nuevos_pagos = juego.matriz_pagos[tuple(nueva_combinacion)].valores\n",
    "                \n",
    "                # Verificar si la desviación es beneficiosa\n",
    "                if nuevos_pagos[jugador] > pagos_actual[jugador]:\n",
    "                    es_equilibrio = False\n",
    "                    break\n",
    "            \n",
    "            if not es_equilibrio:\n",
    "                break\n",
    "        \n",
    "        if es_equilibrio:\n",
    "            estrategias_dict = {j: s for j, s in zip(juego.jugadores, combinacion)}\n",
    "            equilibrios.append((\n",
    "                Estrategias(estrategias=estrategias_dict),\n",
    "                Pagos(valores=pagos_actual)\n",
    "            ))\n",
    "    \n",
    "    return equilibrios\n"
   ]
  },
  {
   "cell_type": "code",
   "execution_count": 3,
   "metadata": {},
   "outputs": [
    {
     "name": "stdout",
     "output_type": "stream",
     "text": [
      "Equilibrios de Nash encontrados:\n",
      "Estrategias: {'A': 'C', 'B': 'X'}\n",
      "Pagos: {'A': -1.0, 'B': 1.0}\n",
      "---\n",
      "Estrategias: {'A': 'X', 'B': 'C'}\n",
      "Pagos: {'A': 1.0, 'B': -1.0}\n",
      "---\n"
     ]
    }
   ],
   "source": [
    "# ---------------------------\n",
    "# Ejemplo de uso: Matching Pennies\n",
    "# ---------------------------\n",
    "if __name__ == \"__main__\":\n",
    "    # Definir el juego\n",
    "    matching_pennies = EstructuraDeJuego(\n",
    "        jugadores=[\"A\", \"B\"],\n",
    "        estrategias={\n",
    "            \"A\": [\"C\", \"X\"],\n",
    "            \"B\": [\"C\", \"X\"]\n",
    "        },\n",
    "        matriz_pagos={\n",
    "            (\"C\", \"C\"): Pagos(valores={\"A\": 0, \"B\": 0}),\n",
    "            (\"C\", \"X\"): Pagos(valores={\"A\": -1, \"B\": 1}),\n",
    "            (\"X\", \"C\"): Pagos(valores={\"A\": 1, \"B\": -1}),\n",
    "            (\"X\", \"X\"): Pagos(valores={\"A\": -10, \"B\": -10}),\n",
    "        }\n",
    "    )\n",
    "    \n",
    "    # Encontrar equilibrios de Nash\n",
    "    equilibrios = equilibrio_nash(matching_pennies)\n",
    "    \n",
    "    print(\"Equilibrios de Nash encontrados:\")\n",
    "    for eq in equilibrios:\n",
    "        print(f\"Estrategias: {eq[0].estrategias}\")\n",
    "        print(f\"Pagos: {eq[1].valores}\")\n",
    "        print(\"---\")"
   ]
  },
  {
   "cell_type": "markdown",
   "metadata": {},
   "source": [
    "# Juego 1: La Carrera Tecnológica\n",
    "\n",
    "**Storytelling:**  \n",
    "Dos empresas de inteligencia artificial (NeuraTech y DeepMindX) deben elegir entre:\n",
    "\n",
    "- **Estrategia A:** Invertir en I+D para un avance revolucionario (alto riesgo/recompensa)\n",
    "- **Estrategia B:** Mejorar productos existentes (bajo riesgo/recompensa moderada)\n",
    "\n",
    "**Reglas:**\n",
    "\n",
    "- **Si ambas eligen I+D:**  \n",
    "  60% de probabilidad de éxito  \n",
    "  (recompensa: +8 cada una si tienen éxito, -4 si fallan)\n",
    "- **Si una elige I+D y otra no:**  \n",
    "  La innovadora captura el mercado  \n",
    "  (recompensa: +10 para la que invierte vs -2)\n",
    "- **Si ambas mejoran productos:**  \n",
    "  +3 cada una\n"
   ]
  },
  {
   "cell_type": "code",
   "execution_count": 15,
   "metadata": {},
   "outputs": [
    {
     "name": "stdout",
     "output_type": "stream",
     "text": [
      "Equilibrios de Nash encontrados:\n",
      "Estrategias: {'NeuraTech': 'I+D', 'DeepMindX': 'I+D'}\n",
      "Pagos: {'NeuraTech': 5.0, 'DeepMindX': 5.0}\n",
      "---\n"
     ]
    }
   ],
   "source": [
    "carrera_tecnologica = EstructuraDeJuego(\n",
    "    jugadores=[\"NeuraTech\", \"DeepMindX\"],\n",
    "    estrategias={\n",
    "        \"NeuraTech\": [\"I+D\", \"Mejorar\"],\n",
    "        \"DeepMindX\": [\"I+D\", \"Mejorar\"]\n",
    "    },\n",
    "    matriz_pagos={\n",
    "        (\"I+D\", \"I+D\"): Pagos(valores={\"NeuraTech\": 5, \"DeepMindX\": 5}),  # Valor esperado\n",
    "        (\"I+D\", \"Mejorar\"): Pagos(valores={\"NeuraTech\": 10, \"DeepMindX\": -2}),\n",
    "        (\"Mejorar\", \"I+D\"): Pagos(valores={\"NeuraTech\": -2, \"DeepMindX\": 10}),\n",
    "        (\"Mejorar\", \"Mejorar\"): Pagos(valores={\"NeuraTech\": 3, \"DeepMindX\": 3}),\n",
    "    }\n",
    ")\n",
    "# Encontrar equilibrios de Nash\n",
    "equilibrios = equilibrio_nash(carrera_tecnologica)\n",
    "\n",
    "print(\"Equilibrios de Nash encontrados:\")\n",
    "for eq in equilibrios:\n",
    "    print(f\"Estrategias: {eq[0].estrategias}\")\n",
    "    print(f\"Pagos: {eq[1].valores}\")\n",
    "    print(\"---\")"
   ]
  },
  {
   "cell_type": "markdown",
   "metadata": {},
   "source": [
    "Prefieren invertir a quedarse afuera del mercado \n"
   ]
  },
  {
   "cell_type": "markdown",
   "metadata": {},
   "source": [
    "# Juego 2: El Dilema del Arquitecto\n",
    "\n",
    "**Storytelling:**  \n",
    "Dos arquitectos compiten por un proyecto urbano. Cada uno puede:\n",
    "\n",
    "- **Cooperar:** Diseño ecológico integrado con el entorno (+2 reputación)\n",
    "- **Competir:** Propuesta maximalista para impresionar al jurado  \n",
    "  (+5 si gana, -3 si pierde)\n",
    "\n",
    "**Reglas:**\n",
    "\n",
    "- **Si ambos cooperan:**  \n",
    "  Comparten el proyecto (+2 cada uno)\n",
    "- **Si uno compite y otro coopera:**  \n",
    "  El competitivo gana  \n",
    "  (recompensa: +5 para el que compite vs -1 por daño reputacional para el cooperador)\n",
    "- **Si ambos compiten:**  \n",
    "  50% de ganar  \n",
    "  (resultado: +5/-3) con valor esperado de +1 para cada uno"
   ]
  },
  {
   "cell_type": "code",
   "execution_count": 16,
   "metadata": {},
   "outputs": [
    {
     "name": "stdout",
     "output_type": "stream",
     "text": [
      "Equilibrios de Nash encontrados:\n",
      "Estrategias: {'Arquitecto1': 'Competir', 'Arquitecto2': 'Competir'}\n",
      "Pagos: {'Arquitecto1': 1.0, 'Arquitecto2': 1.0}\n",
      "---\n"
     ]
    }
   ],
   "source": [
    "dilema_arquitecto = EstructuraDeJuego(\n",
    "    jugadores=[\"Arquitecto1\", \"Arquitecto2\"],\n",
    "    estrategias={\n",
    "        \"Arquitecto1\": [\"Cooperar\", \"Competir\"],\n",
    "        \"Arquitecto2\": [\"Cooperar\", \"Competir\"]\n",
    "    },\n",
    "    matriz_pagos={\n",
    "        (\"Cooperar\", \"Cooperar\"): Pagos(valores={\"Arquitecto1\": 2, \"Arquitecto2\": 2}),\n",
    "        (\"Cooperar\", \"Competir\"): Pagos(valores={\"Arquitecto1\": -1, \"Arquitecto2\": 5}),\n",
    "        (\"Competir\", \"Cooperar\"): Pagos(valores={\"Arquitecto1\": 5, \"Arquitecto2\": -1}),\n",
    "        (\"Competir\", \"Competir\"): Pagos(valores={\"Arquitecto1\": 1, \"Arquitecto2\": 1}),\n",
    "    }\n",
    ")\n",
    "\n",
    "# Encontrar equilibrios de Nash\n",
    "equilibrios = equilibrio_nash(dilema_arquitecto)\n",
    "\n",
    "print(\"Equilibrios de Nash encontrados:\")\n",
    "for eq in equilibrios:\n",
    "    print(f\"Estrategias: {eq[0].estrategias}\")\n",
    "    print(f\"Pagos: {eq[1].valores}\")\n",
    "    print(\"---\")"
   ]
  },
  {
   "cell_type": "markdown",
   "metadata": {},
   "source": [
    "Parecido al dilema del prisionera que aunque convenga cooperar ambos se traicionan y pierden "
   ]
  },
  {
   "cell_type": "markdown",
   "metadata": {},
   "source": [
    "# Juego 3: La Guerra de Contenidos\n",
    "\n",
    "**Storytelling:**  \n",
    "Dos streamers (LunaGamer y PixelKing) deciden su estrategia de contenido:\n",
    "\n",
    "- **Calidad:** Videos editados profesionalmente (alto costo/alta retención)\n",
    "- **Cantidad:** Streams diarios largos (bajo costo/audiencia casual)\n",
    "\n",
    "**Pagos:**\n",
    "\n",
    "- **Si ambos eligen Calidad:**  \n",
    "  Audiencia se divide (+4 cada uno)\n",
    "- **Si uno elige Calidad y otro Cantidad:**  \n",
    "  El de Cantidad captura más viewers (+6 vs +2)\n",
    "- **Si ambos eligen Cantidad:**  \n",
    "  Saturación del mercado (+1 cada uno)"
   ]
  },
  {
   "cell_type": "code",
   "execution_count": 17,
   "metadata": {},
   "outputs": [
    {
     "name": "stdout",
     "output_type": "stream",
     "text": [
      "Equilibrios de Nash encontrados:\n",
      "Estrategias: {'Arquitecto1': 'Competir', 'Arquitecto2': 'Competir'}\n",
      "Pagos: {'Arquitecto1': 1.0, 'Arquitecto2': 1.0}\n",
      "---\n"
     ]
    }
   ],
   "source": [
    "guerra_contenidos = EstructuraDeJuego(\n",
    "    jugadores=[\"LunaGamer\", \"PixelKing\"],\n",
    "    estrategias={\n",
    "        \"LunaGamer\": [\"Calidad\", \"Cantidad\"],\n",
    "        \"PixelKing\": [\"Calidad\", \"Cantidad\"]\n",
    "    },\n",
    "    matriz_pagos={\n",
    "        (\"Calidad\", \"Calidad\"): Pagos(valores={\"LunaGamer\": 4, \"PixelKing\": 4}),\n",
    "        (\"Calidad\", \"Cantidad\"): Pagos(valores={\"LunaGamer\": 2, \"PixelKing\": 6}),\n",
    "        (\"Cantidad\", \"Calidad\"): Pagos(valores={\"LunaGamer\": 6, \"PixelKing\": 2}),\n",
    "        (\"Cantidad\", \"Cantidad\"): Pagos(valores={\"LunaGamer\": 1, \"PixelKing\": 1}),\n",
    "    }\n",
    ")\n",
    "\n",
    "# Encontrar equilibrios de Nash\n",
    "equilibrios = equilibrio_nash(dilema_arquitecto)\n",
    "\n",
    "print(\"Equilibrios de Nash encontrados:\")\n",
    "for eq in equilibrios:\n",
    "    print(f\"Estrategias: {eq[0].estrategias}\")\n",
    "    print(f\"Pagos: {eq[1].valores}\")\n",
    "    print(\"---\")"
   ]
  },
  {
   "cell_type": "markdown",
   "metadata": {},
   "source": [
    "Se prioriza cantidad sobre calidad\n"
   ]
  }
 ],
 "metadata": {
  "kernelspec": {
   "display_name": ".venv",
   "language": "python",
   "name": "python3"
  },
  "language_info": {
   "codemirror_mode": {
    "name": "ipython",
    "version": 3
   },
   "file_extension": ".py",
   "mimetype": "text/x-python",
   "name": "python",
   "nbconvert_exporter": "python",
   "pygments_lexer": "ipython3",
   "version": "3.11.10"
  }
 },
 "nbformat": 4,
 "nbformat_minor": 2
}
